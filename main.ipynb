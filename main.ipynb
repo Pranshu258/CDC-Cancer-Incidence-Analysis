{
 "cells": [
  {
   "cell_type": "markdown",
   "metadata": {},
   "source": [
    "# Exploring Cancer Incidence Data from CDC Wonder\n",
    "Author: Pranshu Gupta"
   ]
  },
  {
   "cell_type": "markdown",
   "metadata": {},
   "source": [
    "## Importing Packages"
   ]
  },
  {
   "cell_type": "code",
   "execution_count": 23,
   "metadata": {},
   "outputs": [],
   "source": [
    "import os\n",
    "import glob\n",
    "import csv\n",
    "import pandas as pd"
   ]
  },
  {
   "cell_type": "markdown",
   "metadata": {},
   "source": [
    "## Preparing Data"
   ]
  },
  {
   "cell_type": "code",
   "execution_count": 30,
   "metadata": {},
   "outputs": [
    {
     "name": "stdout",
     "output_type": "stream",
     "text": [
      "Number of files: 21\n",
      "Processed file: dataset/2002.txt, with 10748 rows\n",
      "Processed file: dataset/2016.txt, with 12725 rows\n",
      "Processed file: dataset/2017.txt, with 12604 rows\n",
      "Processed file: dataset/2003.txt, with 11035 rows\n",
      "Processed file: dataset/2015.txt, with 12669 rows\n",
      "Processed file: dataset/2001.txt, with 10612 rows\n",
      "Processed file: dataset/2014.txt, with 12570 rows\n",
      "Processed file: dataset/2010.txt, with 12222 rows\n",
      "Processed file: dataset/2004.txt, with 11270 rows\n",
      "Processed file: dataset/2005.txt, with 11578 rows\n",
      "Processed file: dataset/2011.txt, with 12269 rows\n",
      "Processed file: dataset/2007.txt, with 11801 rows\n",
      "Processed file: dataset/2013.txt, with 12449 rows\n",
      "Processed file: dataset/2012.txt, with 12362 rows\n",
      "Processed file: dataset/2006.txt, with 11706 rows\n",
      "Processed file: dataset/2008.txt, with 12005 rows\n",
      "Processed file: dataset/2020.txt, with 12069 rows\n",
      "Processed file: dataset/2021.txt, with 12298 rows\n",
      "Processed file: dataset/2009.txt, with 12138 rows\n",
      "Processed file: dataset/2019.txt, with 12786 rows\n",
      "Processed file: dataset/2018.txt, with 12721 rows\n",
      "Total number of rows: 252616\n",
      "  Notes            Leading Cancer Sites Leading Cancer Sites Code  Year  \\\n",
      "0        Brain and Other Nervous System               31010-31040  2002   \n",
      "1        Brain and Other Nervous System               31010-31040  2002   \n",
      "2        Brain and Other Nervous System               31010-31040  2002   \n",
      "3        Brain and Other Nervous System               31010-31040  2002   \n",
      "4        Brain and Other Nervous System               31010-31040  2002   \n",
      "\n",
      "  Year Code Age Groups Age Groups Code     Sex Sex Code  \\\n",
      "0      2002  1-4 years             1-4  Female        F   \n",
      "1      2002  1-4 years             1-4  Female        F   \n",
      "2      2002  1-4 years             1-4  Female        F   \n",
      "3      2002  1-4 years             1-4  Female        F   \n",
      "4      2002  1-4 years             1-4  Female        F   \n",
      "\n",
      "  States and Puerto Rico States and Puerto Rico Code Count  \n",
      "0             California                          06    33  \n",
      "1                Florida                          12    20  \n",
      "2               New York                          36    20  \n",
      "3           Pennsylvania                          42    16  \n",
      "4                  Texas                          48    25  \n"
     ]
    }
   ],
   "source": [
    "directory = 'dataset/'\n",
    "files = glob.glob(os.path.join(directory, '*.txt'))\n",
    "\n",
    "print(\"Number of files: \" + str(len(files)))\n",
    "\n",
    "combinedRows = []\n",
    "\n",
    "rowTitles = []\n",
    "for file in files:\n",
    "    with open(file, 'r') as f:\n",
    "        reader = csv.reader(f, delimiter='\\t')\n",
    "        rowCount = 0\n",
    "        for row in reader:\n",
    "            if row[0] == \"---\":\n",
    "                break\n",
    "            if rowCount > 0:\n",
    "                combinedRows.append(row)\n",
    "            else:\n",
    "                rowTitles = row\n",
    "            rowCount += 1\n",
    "    print(\"Processed file: \" + file + \", with \" + str(rowCount) + \" rows\")\n",
    "\n",
    "combinedRows = [rowTitles] + combinedRows\n",
    "\n",
    "df = pd.DataFrame(combinedRows[1:], columns=combinedRows[0])\n",
    "print(\"Total number of rows: \" + str(len(df)))\n",
    "print(df.head())\n",
    "\n",
    "df.to_csv('dataset/combined.csv', index=False)"
   ]
  },
  {
   "cell_type": "markdown",
   "metadata": {},
   "source": [
    "## Preliminary Analysis"
   ]
  },
  {
   "cell_type": "code",
   "execution_count": null,
   "metadata": {},
   "outputs": [],
   "source": []
  }
 ],
 "metadata": {
  "kernelspec": {
   "display_name": "Python 3",
   "language": "python",
   "name": "python3"
  },
  "language_info": {
   "codemirror_mode": {
    "name": "ipython",
    "version": 3
   },
   "file_extension": ".py",
   "mimetype": "text/x-python",
   "name": "python",
   "nbconvert_exporter": "python",
   "pygments_lexer": "ipython3",
   "version": "3.13.0"
  }
 },
 "nbformat": 4,
 "nbformat_minor": 2
}
